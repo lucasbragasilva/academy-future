{
 "cells": [
  {
   "cell_type": "markdown",
   "id": "c05dceb7-efc7-4738-9c8e-561414812baa",
   "metadata": {},
   "source": [
    "# Análise e interpretação de dados através de estatística descritiva\n",
    "Após concluir esta unidade você estará apto a:\n",
    "\n",
    "- Entender os principais conceitos de estatística descritiva\n",
    "- Utilizar ferramentas de estatística descritiva para análise de dados\n",
    "- Exercitar a utilização de distribuições de frequência em problemas de ciência de dados \n",
    "\n",
    "A análise estatística descritiva ajuda você a entender seus dados e é uma parte muito importante em ciência de dados. Isso ocorre porque o aprendizado de máquinas trata apenas de fazer previsões. Por outro lado, a estatística trata de tirar conclusões a partir dos dados, o que é um passo inicial necessário. Nessa unidade, você aprenderá sobre os conceitos estatísticos descritivos mais importantes. Eles ajudarão você a entender melhor o que seus dados estão tentando lhe dizer, o que resultará em um melhor modelo e compreensão geral de aprendizado de máquina.\n",
    "\n",
    "# Introdução\n",
    "Fazer uma análise estatística descritiva de seu conjunto de dados é absolutamente crucial. Muitas pessoas pulam esta parte e, portanto, perdem muitos insights valiosos sobre seus dados, o que muitas vezes leva a conclusões erradas. Não se apresse e execute estatísticas descritivas com cuidado e certifique-se de que os dados atendam aos requisitos para uma análise posterior.\n",
    "\n",
    "Mas antes de tudo, devemos examinar o que as estatísticas realmente são:\n",
    "\n",
    "A Estatística é um ramo da matemática que trata da coleta, interpretação, organização e interpretação de dados.\n",
    "\n",
    "Nas estatísticas, existem duas categorias principais:\n",
    "\n",
    "1. Estatística Descritiva: Na Estatística Descritiva você está descrevendo, apresentando, resumindo e organizando seus dados (população), seja por meio de cálculos numéricos ou gráficos ou tabelas.\n",
    "2. Estatística inferencial: as estatísticas inferenciais são produzidas por cálculos matemáticos mais complexos e nos permitem inferir tendências e fazer suposições e previsões sobre uma população com base no estudo de uma amostra retirada dela."
   ]
  },
  {
   "cell_type": "markdown",
   "id": "a8731949-7e86-4154-8532-c441b7529f7a",
   "metadata": {},
   "source": [
    "# Termos vitais em estatística\n",
    "- __População__: o universo de todos os dados possíveis para um determinado cenário. Por exemplo. Todos os clientes com contas de empréstimo em um banco.\n",
    "- __Amostra__: o conjunto de observações de uma determinada população. Por exemplo. Todos os clientes com conta de empréstimo em um banco que optaram pelo serviço de atendimento ao cliente no último trimestre são uma amostra. Eles são os mesmos clientes de que falamos inicialmente, no entanto, estamos apenas filtrando aqueles que optaram por serviços de atendimento ao cliente no trimestre anterior, portanto, esta é uma amostra.\n",
    "- __Parâmetro__: um resumo numérico ou valor associado a uma população. Por exemplo. Dívida média de todos os clientes com contas de empréstimo em um banco.\n",
    "- __Estatísticas__: Um resumo numérico ou valor associado a uma amostra. Por exemplo. Média de chamadas feitas por clientes que optam por um serviço de atendimento ao cliente no início da semana.\n",
    "\n",
    "Normalmente não se observa uma população, pois ao trabalhar com dados não temos acesso a todas as entidades do espaço do problema. Frequentemente, há vazamentos de dados ou dados perdidos durante o agrupamento. Portanto, todos os dados são considerados um subconjunto de uma população."
   ]
  },
  {
   "cell_type": "markdown",
   "id": "6710a180-9107-40a1-8b0b-357339cc955c",
   "metadata": {},
   "source": [
    "# Variáveis e tipos de dados\n",
    "Variável é a característica de interesse que é medida em cada elemento da amostra ou população. Como o nome diz, seus valores variam de elemento para elemento. As variáveis podem ter valores numéricos ou não numéricos.\n",
    "\n",
    "Variáveis podem ser classificadas da seguinte forma:\n",
    "\n",
    "- Variáveis Quantitativas: são as características que podem ser medidas em uma escala quantitativa, ou seja, apresentam valores numéricos que fazem sentido. Podem ser contínuas ou discretas.\n",
    "    - Variáveis discretas: características mensuráveis que podem assumir apenas um número finito ou infinito contável de valores e, assim, somente fazem sentido valores inteiros. Geralmente são o resultado de contagens. Exemplos: número de filhos, número de bactérias por litro de leite, número de cigarros fumados por dia.\n",
    "    - Variáveis contínuas, características mensuráveis que assumem valores em uma escala contínua (na reta real), para as quais valores fracionais fazem sentido. Usualmente devem ser medidas através de algum instrumento. Exemplos: peso (balança), altura (régua), tempo (relógio), pressão arterial, idade.\n",
    "- Variáveis Qualitativas (ou categóricas): são as características que não possuem valores quantitativos, mas, ao contrário, são definidas por várias categorias, ou seja, representam uma classificação dos indivíduos. Podem ser nominais ou ordinais.\n",
    "    - Variáveis nominais: não existe ordenação dentre as categorias. Exemplos: sexo, cor dos olhos, fumante/não fumante, doente/sadio.\n",
    "    - Variáveis ordinais: existe uma ordenação entre as categorias. Exemplos: escolaridade (1o, 2o, 3o graus), estágio da doença (inicial, intermediário, terminal), mês de observação (janeiro, fevereiro,..., dezembro)."
   ]
  },
  {
   "cell_type": "markdown",
   "id": "2d9052e4-7f75-4def-954e-5292c29c0836",
   "metadata": {},
   "source": [
    "# Dados e histograma\n",
    "Os dados brutos representam números no formato original em que os dados foram coletados. Os dados brutos precisam ser convertidos em um formato que possa ser utilizado para a tomada de decisões. Os dados extraídos são convertidos em informação que é então usada para obter conhecimento sobre um cenário. A estatística descritiva é mais sobre a conversão de dados em informações. Uma das formais mais interessantes de converter dados em informação é através de uma distribuição de frequência. Um exemplo comum de uso da distribuição de frequência é analisar a contagem de dados em diferentes segmentos usando um gráfico de histograma. Em um gráfico de histograma, o intervalo de dados é dividido em compartimentos. Essas caixas são então usadas para calcular a contagem de registros em cada grupo. Por exemplo, suponha que foram coletados referentes a altura de alunos. Depois disso, os dados foram organizados em uma tabela, como mostrada abaixo:"
   ]
  },
  {
   "cell_type": "markdown",
   "id": "dca05226-cec6-47d5-9864-98a8c85363ab",
   "metadata": {},
   "source": [
    "Abaixo podemos visualizar o gráfico do tipo histograma elaborado de acordo com a tabela apresentada anteriormente, sendo possível observar que os dados são os mesmos e a única diferença está na forma de visualizar as informações.\n",
    "\n",
    "\n",
    "\n",
    "Todas as vezes que não tiver total certeza do que fazer com um grande conjunto de medições ou dados apresentados em uma tabela, você poderá utilizar um gráfico de histograma para organizar e exibir os dados em um formato mais amigável. Assim, a distribuição de frequência tornará fácil ver onde a maioria dos valores está em uma escala de medição e quanta variação existe entre eles. É interessante criar um histograma quando você quer:\n",
    "\n",
    "- __Resumir grandes conjuntos de dados:__ um conjunto de dados apresentado em uma tabela não é fácil de tirar conclusões. Pode ser muito mais fácil de entender organizando-o em um histograma;\n",
    "- __Comunicar informações graficamente:__ outras pessoas poderão ver facilmente os valores que ocorrem com mais frequência. Quando você usa um histograma para resumir grandes conjuntos de dados ou para comparar medições com os limites de especificação, está empregando uma ferramenta poderosa para comunicar informações.\n",
    "\n",
    "Veja o vídeo a seguir para entender melhor um histograma: [Vídeo](https://www.youtube.com/watch?time_continue=3&v=Q1rbvzYmOmM&feature=emb_logo)"
   ]
  },
  {
   "cell_type": "markdown",
   "id": "cb8d7145-f2a8-448a-9c31-8d6a36c205c3",
   "metadata": {},
   "source": [
    "# Estatísticas e medidas de tendencias centrais\n",
    "Outra forma interessante de sumarizar informações de um conjunto de dados é através do uso de estatísticas sobre estes dados. Um conjunto interessante de estatísticas são a média, a moda e a mediana. Também são chamados de medidas de tendência central. Estes são apenas três tipos diferentes de \"médias\" e certamente as mais populares.\n",
    "Tais estatísticas são um resumo de um número dos dados que normalmente descreve o centro dos dados.\n",
    "\n",
    "- __Média:__ é simplesmente a média e considerada a medida mais confiável de tendência central para fazer suposições sobre uma população a partir de uma única amostra. A tendência central determina a tendência dos valores de seus dados se agruparem em torno de sua média, modo ou mediana. A média é calculada pela soma de todos os valores, dividida pelo número de valores.\n",
    "- __Mediana:__ é o valor \"médio\" ou ponto médio em seus dados e também é chamada de \"50º percentil\". Observe que a mediana é muito menos afetada por valores discrepantes e dados distorcidos do que a média. Vou explicar isso com um exemplo: imagine que você tem um conjunto de dados de valores de casas que variam principalmente de R$ 100000 a R$ 300000, mas contém algumas casas que valem mais de 3 milhões de reais. Essas casas caras terão um grande efeito, pois é a soma de todos os valores, dividida pelo número de valores. A mediana não será fortemente afetada por esses valores discrepantes, pois é apenas o valor \"médio\" de todos os pontos de dados. Portanto, a mediana é uma estatística muito mais adequada para relatar seus dados. A mediana é calculada primeiro organizando os dados em ordem crescente ou decrescente. Se o número de observações for ímpar, a mediana é dada pela observação do meio na forma ordenada. Se o número de observações for par, a mediana é dada pela média das duas observações do meio na forma ordenada. Um ponto importante a se notar que a ordem dos dados (crescente ou decrescente) não afeta a mediana.\n",
    "- __Moda:__ é o valor ou categoria que ocorre com mais frequência nos dados. Portanto, um conjunto de dados não tem moda, se nenhum número for repetido ou se nenhuma categoria for a mesma. É possível que um conjunto de dados tenha mais de uma moda. Se houver apenas um número que aparece no máximo de vezes, os dados têm uma moda e são chamados de Unimodais. Se houver dois números que aparecem no máximo de vezes, os dados têm duas modas e são chamados de Bimodal. Se houver mais de dois números que aparecem no máximo de vezes, os dados têm mais de duas modas e são chamados de multimodais. A moda também é a única medida de tendência central que pode ser usada para variáveis categóricas, uma vez que você não pode calcular, por exemplo, a média para a variável \"gênero\". Você simplesmente relata as variáveis categóricas como números e porcentagens.\n",
    "Exemplo: Considere os seguintes pontos de dados: 17, 16, 21, 18, 15, 17, 21, 19, 11, 23\n",
    "\n",
    "A média é calculada como"
   ]
  },
  {
   "cell_type": "markdown",
   "id": "24df8302-c12e-43b5-b788-7ed0c8b959c6",
   "metadata": {},
   "source": [
    "Exemplo: Considere os seguintes pontos de dados: 17, 16, 21, 18, 15, 17, 21, 19, 11, 23\n",
    "\n",
    "A média é calculada como\n",
    "\n",
    "Para calcular a mediana, vamos organizar os dados em ordem crescente. 11, 15, 16, 17, 17, 18, 19, 21, 21, 23\n",
    "\n",
    "Como o número de observações é par (10), a mediana é dada pela média das duas observações do meio (5ª e 6ª aqui).\n",
    "A moda é dada pelo número que ocorre no máximo de vezes. Aqui, 17 e 21 ocorrem duas vezes. Portanto, este é um dado Bimodal e as modas são 17 e 21.\n",
    "\n",
    "Em uma distribuição simétrica, todas essas medidas caem no mesmo ponto da linha média. Isso significa que a média, a moda e a mediana são todas iguais. A distribuição normal, que veremos mais tarde, é um exemplo de distribuição simétrica."
   ]
  },
  {
   "cell_type": "markdown",
   "id": "786c5f87-87b8-49e0-8dce-0aaed779b4b6",
   "metadata": {},
   "source": [
    "# Medidas de dispersão (ou variabilidade)\n",
    "As medidas de dispersão descrevem a distribuição dos dados em torno do valor central (ou as medidas de tendência central). As medidas de variabilidade mais populares são a variância, o desvio padrão, o desvio absoluto da média, o intervalo, intervalo interquartil. Eles são usados para medir a quantidade de propagação ou variabilidade em seus dados.\n",
    "\n",
    "- __Desvio absoluto da média:__ também denominado desvio médio absoluto (mean absolute deviation, MAD), descreve a variação no conjunto de dados, no sentido de que indica a distância absoluta média de cada ponto de dados no conjunto. É calculado como\n",
    "em que ∣⋅∣ é o valor absoluto e xˉ é o valor médio.\n",
    "\n",
    "- __Variância:__ mede a distância que os pontos de dados estão espalhados da média. Uma alta variação indica que os pontos de dados estão amplamente espalhados e uma pequena variação indica que os pontos de dados estão mais próximos da média do conjunto de dados. É calculado como\n",
    "\n",
    "\n",
    "- __Desvio padrão:__ a raiz quadrada da variância é chamada de desvio padrão. É calculado como\n",
    "\n",
    "- __Intervalo:__ é a diferença entre o valor máximo e o valor mínimo no conjunto de dados. É dado como\n",
    "\n",
    "\n",
    "- __Intervalo interquantil:__ os quartis são os pontos no conjunto de dados que dividem o conjunto de dados em quatro partes iguais. Q1, Q2 e Q3 são o primeiro, segundo e terceiro quartil do conjunto de dados. 25% dos pontos de dados estão abaixo do Q1 e 75% acima dele. 50% dos pontos de dados estão abaixo do Q2 e 50% acima dele. Q2 nada mais é que a mediana. 75% dos pontos de dados estão abaixo do Q3 e 25% acima dele. O intervalo interquantil (interquantile range, IQR) é uma medida de dispersão estatística entre os quartis superior (75º) e inferior (25º). Ou seja\n",
    "\n",
    "\n",
    "Existem várias outras medidas, além das descritas acima. para conferir uma lista mais completa, acesse este [link](https://towardsdatascience.com/descriptive-statistics-f2beeaf7a8df)."
   ]
  },
  {
   "cell_type": "markdown",
   "id": "3bc4f0ac-0c26-40d0-b9d2-008509a972df",
   "metadata": {},
   "source": [
    "# A distribuição normal\n",
    "A distribuição normal é um dos conceitos mais importantes em estatística, uma vez que quase todos os testes estatísticos requerem dados normalmente distribuídos. Basicamente, descreve a aparência de grandes amostras de dados quando são plotados. Também é conhecida como \"curva de sino\" ou \"curva de Gauss\".\n",
    "\n",
    "A estatística inferencial e o cálculo de probabilidades requerem que uma distribuição normal seja fornecida. Isso basicamente significa que, se seus dados não forem distribuídos normalmente, você precisa ter muito cuidado com os testes estatísticos que aplica a eles, pois eles podem levar a conclusões erradas.\n",
    "\n",
    "Uma distribuição normal é fornecida se seus dados forem simétricos, em forma de sino, centralizados e unimodais.\n",
    "\n",
    "Em uma distribuição normal perfeita, cada lado é um espelho exato do outro. Deve ser semelhante à distribuição na imagem abaixo:"
   ]
  },
  {
   "cell_type": "markdown",
   "id": "e4e6ff6b-cc7b-4e35-beb3-c3044e746834",
   "metadata": {},
   "source": [
    "Você pode ver na imagem que a distribuição tem a forma de um sino, o que significa simplesmente que não tem um pico acentuado. Unimodal significa que há apenas um pico.\n",
    "\n",
    "Em uma distribuição normal, aproximadamente 34% dos pontos de dados estão entre a média e um desvio padrão acima ou abaixo da média. Como uma distribuição normal é simétrica, 68% dos pontos de dados ficam entre um desvio padrão acima e um desvio padrão abaixo da média. Aproximadamente 95% estão entre dois desvios padrão abaixo da média e dois desvios padrão acima da média. E aproximadamente 99,7% estão entre três desvios padrão acima e três desvios padrão abaixo da média.\n",
    "\n",
    "A imagem abaixo ilustra isso perfeitamente."
   ]
  },
  {
   "cell_type": "markdown",
   "id": "5302b7f0-ebe1-4f92-b444-9bf4908a71c4",
   "metadata": {},
   "source": [
    "Com o chamado \"Z-Score\", você pode verificar quantos desvios padrão abaixo (ou acima) da média, um ponto de dados específico se encontra.\n",
    "\n",
    "Confira o vídeo abaixo para uma descrição detalhada sobre a distribuição normal: [link](https://atlantico.my.trailhead.com/pt-BR/content/atlantico/modules/estatistica-e-visualizacao-de-dados/anlise-e-interpretacao-de-dados-atraves-de-estatistica-descritiva)"
   ]
  },
  {
   "cell_type": "markdown",
   "id": "5b1e2ccc-86e8-45c5-8a5a-193d3f8c5c2c",
   "metadata": {},
   "source": [
    "# Introdução à visualização de dados\n",
    "Após concluir esta unidade você estará apto a:\n",
    "\n",
    "- Entender conceitos iniciais sobre visualização de dados e sua importância em ciência de dados\n",
    "- Identificar as qualidades de visualizações de dados boas e ruins\n",
    "- Aprender os principais conceitos para se conseguir construir gráficos\n",
    "\n",
    "A visualização de dados é parte arte e parte ciência. O desafio é fazer a arte certa sem errar na ciência e vice-versa. Uma visualização de dados, antes de mais nada, deve transmitir os dados com precisão. Não deve enganar ou distorcer informações. Se um número é duas vezes maior que outro, mas na visualização eles parecem ser quase iguais, então a visualização está feita de maneira errada. Ao mesmo tempo, uma visualização de dados deve ser esteticamente agradável. Boas apresentações visuais tendem a aprimorar a mensagem da visualização. Se uma figura contiver cores dissonantes, elementos visuais desequilibrados ou outros recursos que distraem, o observador terá mais dificuldade em inspecionar a figura e interpretá-la corretamente. Nesta unidade iremos entender um pouco sobre visualização de dados, tentar transformar dados em gráficos e distinguir gráficos bons de gráficos ruins."
   ]
  },
  {
   "cell_type": "markdown",
   "id": "cd2a9313-c2ce-49d2-953d-bb62abf67888",
   "metadata": {},
   "source": [
    "# Fundamentos de visualização de dados\n",
    "A visualização de dados é a comunicação de dados de uma maneira visual, ou transformação de dados brutos em insights que podem ser facilmente interpretados por seus leitores. A visualização de dados é eficaz quando bem feita. Definimos exatamente quando as visualizações de dados cumpriram seu propósito. Um teste rápido - quando as pessoas podem interpretar sua visualização fazendo mais perguntas sobre as informações exibidas versus como ou o que é exibido, então você sabe que está no caminho certo. Portanto, para ser altamente eficaz, é importante projetar as visualizações corretas para seus dados para permitir que você e os membros da equipe interpretem e tomem decisões com base no que observam. Como fazemos isso? É simples. Criamos as visualizações adequadas, entendendo os diferentes tipos de visualizações e utilizando as 5 categorias a seguir:"
   ]
  },
  {
   "cell_type": "markdown",
   "id": "a0456b44-fc29-4ec3-bc67-490365ffac92",
   "metadata": {},
   "source": [
    "## Temporal\n",
    "As visualizações de dados pertencem à categoria temporal se satisfizerem duas condições: que sejam lineares e que sejam unidimensionais. As visualizações temporais normalmente apresentam linhas que ficam isoladas ou se sobrepõem umas às outras, com um horário de início e de término.\n",
    "\n",
    "## Hierárquico\n",
    "As visualizações de dados que pertencem à categoria hierárquica são aquelas que ordenam grupos dentro de grupos maiores. As visualizações hierárquicas são mais adequadas se você deseja exibir grupos de informações, especialmente se eles fluem de um único ponto de origem.\n",
    "\n",
    "A desvantagem desses gráficos é que eles tendem a ser mais complexos e difíceis de ler, razão pela qual o diagrama de árvore é usado com mais frequência. É o mais simples de seguir devido ao seu caminho linear.\n",
    "\n",
    "## Rede\n",
    "Os conjuntos de dados se conectam profundamente com outros conjuntos de dados. As visualizações de dados de rede mostram como eles se relacionam entre si dentro de uma rede. Em outras palavras, demonstrar relações entre conjuntos de dados sem explicações prolixas.\n",
    "\n",
    "## Multidimensional\n",
    "Assim como o nome, as visualizações de dados multidimensionais têm várias dimensões. Isso significa que sempre há 2 ou mais variáveis na combinação para criar uma visualização de dados 3D. Por causa das muitas camadas e conjuntos de dados simultâneos, esses tipos de visualizações tendem a ser os visuais mais vibrantes ou atraentes.\n",
    "\n",
    "## Geoespacial\n",
    "As visualizações de dados geoespaciais ou espaciais se relacionam a localizações físicas da vida real, sobrepondo mapas familiares com diferentes pontos de dados. Esses tipos de visualizações de dados são comumente usados para exibir vendas ou aquisições ao longo do tempo e podem ser mais reconhecíveis por seu uso em campanhas políticas ou para exibir a penetração no mercado em corporações multinacionais."
   ]
  },
  {
   "cell_type": "markdown",
   "id": "dffae55f-56c5-48c6-8471-601ead8b4c39",
   "metadata": {},
   "source": [
    "O vídeo abaixo ilustra bem os fundamentos de visualização de dados:\n",
    "[Link](https://www.youtube.com/watch?v=7bwZLfQc5q0&t=116s)"
   ]
  },
  {
   "cell_type": "markdown",
   "id": "119c52a8-7ff2-4c04-a3b4-53b8b55c62d9",
   "metadata": {},
   "source": [
    "# Gráficos bons e gráficos ruins\n",
    "Ao longo do material, frequentemente mostraremos diferentes versões das mesmas figuras, algumas como exemplos de como fazer uma boa visualização e outras como exemplos de como não fazer. Para fornecer uma orientação visual simples de quais exemplos devem ser utilizados e quais devem ser evitados, foram criados rótulos, que separam figuras problemáticas como \"feias\", \"ruins\" ou \"erradas\":\n",
    "\n",
    "- feio (ugly): uma figura que tem problemas estéticos, mas, por outro lado, é clara e informativa.\n",
    "- ruim (bad): uma figura que tem problemas relacionados à percepção; pode ser pouco claro, confuso, excessivamente complicado ou enganador.\n",
    "- errado (wrong): uma figura que tem problemas relacionados à matemática; é objetivamente incorreto.\n",
    "Abaixo temos exemplos de figuras boas, feias, ruins e erradas."
   ]
  },
  {
   "cell_type": "markdown",
   "id": "f81fd9bd-6deb-4801-bbef-92a8089d969d",
   "metadata": {},
   "source": [
    "(a) Um gráfico de barras mostrando três valores (A=3, B=5 e C=4). Esta é uma visualização razoável sem grandes falhas. (b) Uma versão feia da parte (a). Embora esteja tecnicamente correto, não é esteticamente agradável. As cores são muito brilhantes e inúteis. A grade de fundo é muito proeminente. O texto é exibido usando três fontes diferentes em três tamanhos diferentes. (c) Uma versão incorreta da parte (a). Cada barra é mostrada com sua própria escala no eixo y. Como as escalas não se alinham, isso torna a figura enganosa. Pode-se facilmente ter a impressão de que os três valores estão mais próximos do que realmente estão. (d) Uma versão errada da parte (a). Sem uma escala explícita do eixo y, os números representados pelas barras não podem ser verificados. As barras parecem ter comprimentos 1, 3 e 2, embora os valores exibidos sejam 3, 5 e 4."
   ]
  },
  {
   "cell_type": "code",
   "execution_count": null,
   "id": "a6272cce-f07d-4e83-a2a2-cfdd6af1d2d8",
   "metadata": {},
   "outputs": [],
   "source": []
  }
 ],
 "metadata": {
  "kernelspec": {
   "display_name": "Python 3 (ipykernel)",
   "language": "python",
   "name": "python3"
  },
  "language_info": {
   "codemirror_mode": {
    "name": "ipython",
    "version": 3
   },
   "file_extension": ".py",
   "mimetype": "text/x-python",
   "name": "python",
   "nbconvert_exporter": "python",
   "pygments_lexer": "ipython3",
   "version": "3.8.10"
  }
 },
 "nbformat": 4,
 "nbformat_minor": 5
}
