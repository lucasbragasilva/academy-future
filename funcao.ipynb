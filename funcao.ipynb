{
 "cells": [
  {
   "cell_type": "code",
   "execution_count": 6,
   "id": "768836d6-a14a-4e4c-afd2-0a230d47dae7",
   "metadata": {},
   "outputs": [],
   "source": [
    "def parabens():\n",
    "    print(' Parabéns para você\\n Nessa data querida\\n Muitas felicidades\\n Muitos anos de vida\\n')"
   ]
  },
  {
   "cell_type": "markdown",
   "id": "da214cfe-15a7-4094-ac1b-40a64aa145c6",
   "metadata": {},
   "source": [
    "parabens()"
   ]
  },
  {
   "cell_type": "code",
   "execution_count": 8,
   "id": "f366d02f-a94f-40ca-b0e4-acd8237c92c7",
   "metadata": {},
   "outputs": [],
   "source": [
    "def temLetrau():\n",
    "    frase = input(\"Digite uma frase: \")\n",
    "    if \"u\" in frase:\n",
    "        print(\"Você utilizou a letra u\")\n",
    "    else:\n",
    "        print(\"Você não utilizou a letra u\")"
   ]
  },
  {
   "cell_type": "code",
   "execution_count": 10,
   "id": "2d7b7383-c51c-4cdd-b156-b93b077f5a7c",
   "metadata": {},
   "outputs": [
    {
     "name": "stdin",
     "output_type": "stream",
     "text": [
      "Digite uma frase:  hoje o dia esta nublado\n"
     ]
    },
    {
     "name": "stdout",
     "output_type": "stream",
     "text": [
      "Você utilizou a letra u\n"
     ]
    }
   ],
   "source": [
    "temLetrau()"
   ]
  },
  {
   "cell_type": "code",
   "execution_count": 11,
   "id": "8bdafc0d-f328-4c1a-91de-6e23591926ff",
   "metadata": {},
   "outputs": [],
   "source": [
    "def somaQuadrados(a, b):\n",
    "    somaQ = a ** 2 + b ** 2\n",
    "    return somaQ"
   ]
  },
  {
   "cell_type": "code",
   "execution_count": 12,
   "id": "4fafc8c5-190b-42fb-a495-f6df69ba07d0",
   "metadata": {},
   "outputs": [
    {
     "data": {
      "text/plain": [
       "13"
      ]
     },
     "execution_count": 12,
     "metadata": {},
     "output_type": "execute_result"
    }
   ],
   "source": [
    "somaQuadrados(2, 3)"
   ]
  },
  {
   "cell_type": "code",
   "execution_count": null,
   "id": "e4171569-0658-4d52-aee9-2d286a355fa8",
   "metadata": {},
   "outputs": [],
   "source": []
  }
 ],
 "metadata": {
  "kernelspec": {
   "display_name": "Python 3 (ipykernel)",
   "language": "python",
   "name": "python3"
  },
  "language_info": {
   "codemirror_mode": {
    "name": "ipython",
    "version": 3
   },
   "file_extension": ".py",
   "mimetype": "text/x-python",
   "name": "python",
   "nbconvert_exporter": "python",
   "pygments_lexer": "ipython3",
   "version": "3.8.10"
  }
 },
 "nbformat": 4,
 "nbformat_minor": 5
}
