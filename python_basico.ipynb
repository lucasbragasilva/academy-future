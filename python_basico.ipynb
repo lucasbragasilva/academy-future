{
 "cells": [
  {
   "cell_type": "markdown",
   "id": "2a362441-68bb-4735-bf79-0239acd05e10",
   "metadata": {},
   "source": [
    "# Variáveis em Python\n",
    "\n",
    "Variáveis são contêineres para armazenar valores de dados. Em Python, uma variável é criada no momento em que você atribui um valor a ela, por exemplo"
   ]
  },
  {
   "cell_type": "code",
   "execution_count": 2,
   "id": "b36da224-e4e9-4440-abdf-04ca77716f83",
   "metadata": {},
   "outputs": [],
   "source": [
    "x = 5\n",
    "y = \"atlântico\""
   ]
  },
  {
   "cell_type": "markdown",
   "id": "57378675-2574-4953-8f3d-1ff5ec0f0977",
   "metadata": {},
   "source": [
    "Acabamos de criar duas variáveis x e y. A primeira delas armazena um inteiro e a segunda um texto (string).\n",
    "\n",
    "Python é uma linguagem de tipagem dinâmica e forte, então não precisamos definir o tipo da variável no momento de sua criação. Mas para sabermos de que tipo é determinada variável podemos utilizar a função type(). Por exemplo"
   ]
  },
  {
   "cell_type": "code",
   "execution_count": 3,
   "id": "6c5587c4-d1c0-402c-aa0c-38e4e707dc60",
   "metadata": {},
   "outputs": [
    {
     "name": "stdout",
     "output_type": "stream",
     "text": [
      "<class 'int'>\n"
     ]
    }
   ],
   "source": [
    "print(type(x))"
   ]
  },
  {
   "cell_type": "markdown",
   "id": "f2eff7a4-a998-4344-b032-c715afbab79e",
   "metadata": {},
   "source": [
    "Utilizamos também a função print() para exibição de valores. Nesse caso, a saida é int, pois a variável x é igual a 5.\n",
    "\n",
    "Uma variável pode ter um nome curto (como x e y) ou um nome mais descritivo (idade, nome_carro, volume_total). Regras para variáveis Python:\n",
    "\n",
    "Um nome de variável deve começar com uma letra ou o caractere de sublinhado\n",
    "O nome de uma variável não pode começar com um número\n",
    "Um nome de variável pode conter apenas caracteres alfanuméricos e sublinhados (A-z, 0-9 e _)\n",
    "Os nomes das variáveis diferenciam maiúsculas de minúsculas (idade, Idade e IDADE são três variáveis diferentes)"
   ]
  },
  {
   "cell_type": "code",
   "execution_count": 4,
   "id": "08f1f999-968a-4c74-b540-b8ec31c6994b",
   "metadata": {},
   "outputs": [],
   "source": [
    "minhavariavel = \"Future\"\n",
    "minha_variavel = \"Future\"\n",
    "_minhavariavel = \"Future\"\n",
    "minhaVariavel = \"Future\"\n",
    "MINHAVARIAVEL = \"Future\"\n",
    "minhavariavel2 = \"Future\""
   ]
  },
  {
   "cell_type": "markdown",
   "id": "a7ca9e2a-7ef6-4ea6-b45c-c3490ddfaaa4",
   "metadata": {},
   "source": [
    "Para mais informações sobre variáveis e indentificadores, e tipos de variáveis em Python acesse este link(https://www.w3schools.com/python/python_variables_names.asp) e veja o seguinte vídeo:\n",
    "https://www.youtube.com/watch?time_continue=44&v=6yrsX752CWk&feature=emb_logo"
   ]
  },
  {
   "cell_type": "markdown",
   "id": "c5e1cf48-8977-4ccb-b877-fbcf61c97c93",
   "metadata": {},
   "source": [
    "# Operadores\n",
    "\n",
    "Assim como na matemática, linguagens de programação como Python têm operadores. Você pode pensar neles como funções extremamente simples que estão na base da ciência da computação. Essas são as operações mais simples às quais um programa de computador pode ser reduzido. Eles são conhecimentos essenciais para qualquer aspirante a cientista de dados ou engenheiro de software.\n",
    "\n",
    "# Operadores aritméticos\n",
    "\n",
    "Você provavelmente já deve estar familiarizado com eles, visto que vêm da matemática básica.\n",
    "\n",
    "Os operadores aritméticos são adição (+), subtração (-), multiplicação (*), divisão (/), expoente (**), divisão de piso (//) e módulo (%). Os primeiros quatro são bastante simples; eles são adição, subtração, multiplicação e divisão, e provavelmente você já estará familiarizado com eles."
   ]
  },
  {
   "cell_type": "code",
   "execution_count": 8,
   "id": "4cfae112-29ca-4508-9bc3-b8e8b0cf5e8e",
   "metadata": {},
   "outputs": [
    {
     "name": "stdout",
     "output_type": "stream",
     "text": [
      "Adição:  7\n",
      "Subtração:  3\n",
      "Multiplicação:  10\n",
      "Divisão:  2.5\n"
     ]
    }
   ],
   "source": [
    "# Adição\n",
    "print(\"Adição: \", 5 + 2)\n",
    "# Subtração\n",
    "print(\"Subtração: \", 5 - 2)\n",
    "# Multiplicação\n",
    "print(\"Multiplicação: \", 5 * 2)\n",
    "# Divisão\n",
    "print(\"Divisão: \", 5 / 2)"
   ]
  },
  {
   "cell_type": "markdown",
   "id": "0df49588-80b7-4091-bec0-cc8ea670bbd5",
   "metadata": {},
   "source": [
    "Os outros três são um pouco mais complicados. O operador expoente significa 'elevado à potência de'. Por exemplo, 2 ** 3 significa que 2 é multiplicado por ele mesmo 3 vezes, então 2 ** 3 é igual a 2 * 2 * 2, que é igual a 8.\n",
    "\n",
    "A divisão do piso é igual à divisão normal, exceto que o resultado é sempre arredondado para baixo. No exemplo abaixo, 5 é dividido por 2, resultando em 2.5. Mas, como é a divisão do andar, 2.5 é arredondado para 2.\n",
    "\n",
    "Finalmente, o módulo é o resto após a divisão. No caso de 5 % 2, o número 2 cabe apenas duas vezes em 5, o que significa que o restante é 1.\n",
    "\n",
    "Considere o seguinte código"
   ]
  },
  {
   "cell_type": "code",
   "execution_count": 9,
   "id": "0872528b-fefe-41d4-bd35-17baf4393749",
   "metadata": {},
   "outputs": [
    {
     "name": "stdout",
     "output_type": "stream",
     "text": [
      "Potenciação:  25\n",
      "Divisão do piso:  2\n",
      "Módulo:  1\n"
     ]
    }
   ],
   "source": [
    "# Potenciação\n",
    "print(\"Potenciação: \", 5 ** 2)\n",
    "# This is the same as 5 * 5\n",
    "# Divisão do piso\n",
    "print(\"Divisão do piso: \", 5 // 2)\n",
    "# Módulo\n",
    "print(\"Módulo: \", 5 % 2)"
   ]
  },
  {
   "cell_type": "markdown",
   "id": "4b9a989a-3c17-496a-bb0e-eee03dab3605",
   "metadata": {},
   "source": [
    "Em Python, o operador de adição também pode ser usado para concatenar strings. Isso significa que eles serão montados em uma única string, por exemplo:"
   ]
  },
  {
   "cell_type": "code",
   "execution_count": 11,
   "id": "94d78c1e-795b-407b-a628-fceaa94a4ed4",
   "metadata": {},
   "outputs": [
    {
     "name": "stdout",
     "output_type": "stream",
     "text": [
      "Olá, meu nome é Lucas.\n"
     ]
    }
   ],
   "source": [
    "primeiro_nome = \"Lucas\"\n",
    "introduction = \"Olá, meu nome é \" + primeiro_nome + \".\"\n",
    "print(introduction)"
   ]
  },
  {
   "cell_type": "markdown",
   "id": "41cbbd1a-cd94-42e2-a738-b9f8aa10b771",
   "metadata": {},
   "source": [
    "# Operadores de atribuição\n",
    "\n",
    "Se você tem alguma experiência em programação, certamente já deve ter usado operadores de atribuição antes. Eles atribuem um certo valor a uma variável. O mais usado é =. Para usá-lo, basta digitar o nome da variável à qual deseja atribuir um novo valor, o =, e o valor que deseja atribuir. Por exemplo, se quiser atribuir o valor 100 a variável saldo, você pode fazer o seguinte:"
   ]
  },
  {
   "cell_type": "code",
   "execution_count": 12,
   "id": "07761918-5bf3-4107-83e3-5874eddee690",
   "metadata": {},
   "outputs": [],
   "source": [
    "saldo = 100"
   ]
  },
  {
   "cell_type": "markdown",
   "id": "1641f9b4-03b2-4f28-b8b8-dbd223a6d24d",
   "metadata": {},
   "source": [
    "Se você deseja incrementar o valor de saldo com 10, você pode usar saldo += 10. Isso é o equivalente a saldo = saldo + 10, mas é muito mais curto.\n",
    "\n",
    "O mesmo vale para -=, saldo -= 10 é o mesmo que saldo = saldo - 10.\n",
    "\n",
    "Os outros operadores de atribuição funcionam exatamente da mesma maneira. Estes são:\n",
    "\n",
    "- *=\n",
    "- /=\n",
    "- **=\n",
    "- //=\n",
    "- %="
   ]
  },
  {
   "cell_type": "markdown",
   "id": "79db5a91-aba5-45e8-9e2d-5d0a2379e2a3",
   "metadata": {},
   "source": [
    "# Operadores relacionais\n",
    "\n",
    "Também conhecidos como \"operadores de comparação\". Você pode utilizá-los para, você adivinhou, comparar os valores das variáveis. Eles sempre retornarão um valor booleano, que é True ou False. Existem seis deles:\n",
    "\n",
    "- Igual: ==\n",
    "- Diferente:!=\n",
    "- Maior que:>\n",
    "- Menor que: <\n",
    "- Maior ou igual: >=\n",
    "- Menor ou igual: <=\n",
    "\n",
    "Aqui estão alguns exemplos de comparação:"
   ]
  },
  {
   "cell_type": "code",
   "execution_count": 14,
   "id": "fde17f52-7375-41c2-8997-1edd24325db9",
   "metadata": {},
   "outputs": [
    {
     "name": "stdout",
     "output_type": "stream",
     "text": [
      "Igual:  False\n",
      "Diferente:  True\n",
      "Maior que:  False\n",
      "Menor que:  True\n",
      "Maior ou igual a:  False\n",
      "Menor ou igual a:  True\n"
     ]
    }
   ],
   "source": [
    "a = 3\n",
    "b = 5\n",
    "print(\"Igual: \", a == b)\n",
    "print(\"Diferente: \", a != b)\n",
    "print(\"Maior que: \", a > b)\n",
    "print(\"Menor que: \", a < b)\n",
    "print(\"Maior ou igual a: \", a >= b)\n",
    "print(\"Menor ou igual a: \", a <= b)"
   ]
  },
  {
   "cell_type": "markdown",
   "id": "0225b7f4-ecf1-41f0-b61c-dc61c2b791ca",
   "metadata": {},
   "source": [
    "# Operadores lógicos\n",
    "\n",
    "Você já deve estar familiarizado com eles! Na lógica, eles são chamados de conectivos lógicos. Eles também são amplamente usados na linguagem humana. São eles: and, or e not.\n",
    "\n",
    "and só retornará True se ambos os operandos (os dois objetos booleanos que você está comparando) forem True. Por exemplo:"
   ]
  },
  {
   "cell_type": "code",
   "execution_count": 16,
   "id": "0119bec8-44f0-4c64-8aec-7914c464b224",
   "metadata": {},
   "outputs": [
    {
     "name": "stdout",
     "output_type": "stream",
     "text": [
      "True\n",
      "False\n",
      "False\n"
     ]
    }
   ],
   "source": [
    "print(True and True)\n",
    "print(True and  False)\n",
    "print(False and False)"
   ]
  },
  {
   "cell_type": "markdown",
   "id": "966c61e1-4d8c-46f0-af07-d2828b772acc",
   "metadata": {},
   "source": [
    "Para entender o comportamento desse operador lógico, você pode usar uma tabela verdade:\n",
    "\n",
    "a\t\tb\t\ta and b\n",
    "\n",
    "True\tTrue\tTrue\n",
    "\n",
    "True\tFalse\tFalse\n",
    "\n",
    "False\tTrue\tFalse\n",
    "\n",
    "False\tFalse\tFalse\n",
    "\n",
    "or for True, sempre que algum (um ou mais) operando for True.\n",
    "\n",
    "a\t\tb\t\ta or b\n",
    "\n",
    "True\tTrue\tTrue\n",
    "\n",
    "True\tFalse\tTrue\n",
    "\n",
    "False\tTrue\tTrue\n",
    "\n",
    "False\tFalse\tFalse"
   ]
  },
  {
   "cell_type": "markdown",
   "id": "3f4b9df0-157e-4c8d-8040-90c554c3f6a4",
   "metadata": {},
   "source": [
    "not retornará o oposto de seu operando, portanto True se False for fornecido e vice-versa."
   ]
  },
  {
   "cell_type": "markdown",
   "id": "d7b65029-b03c-474f-974c-c6c038bb1f1f",
   "metadata": {},
   "source": [
    "Precedência de operadores\n",
    "\n",
    "Quando você combina muitos operadores, as coisas podem ficar confusas. Dê uma olhada no exemplo abaixo:"
   ]
  },
  {
   "cell_type": "code",
   "execution_count": 1,
   "id": "d1752eaf-e664-4ca2-a4cc-9a19d31f0ecd",
   "metadata": {},
   "outputs": [
    {
     "data": {
      "text/plain": [
       "True"
      ]
     },
     "execution_count": 1,
     "metadata": {},
     "output_type": "execute_result"
    }
   ],
   "source": [
    "a = 2\n",
    "b = 3\n",
    "c = 9\n",
    "a ** b > 5 and c - a // b >= 9 or b ** 2 == c"
   ]
  },
  {
   "cell_type": "markdown",
   "id": "0b50ad47-09cd-4b75-8f9c-efae89b0e85e",
   "metadata": {},
   "source": [
    "Como você sabe qual será executado primeiro? Como você deve ler uma linha de código com muitos desses símbolos? É executado da esquerda para a direita ou existe alguma ordem específica?\n",
    "\n",
    "É aqui que entra a precedência. Os operadores Python são executados em uma ordem muito específica e alguns têm prioridade sobre outros.\n",
    "\n",
    "Na tabela a seguir, você pode ver a precedência dos operadores, de cima para baixo. Essas regras são as mesmas na matemática, onde certos cálculos em uma fórmula devem ser realizados antes de outros."
   ]
  },
  {
   "cell_type": "markdown",
   "id": "f1941ea0-95d5-4565-b1b6-1ad24e53067d",
   "metadata": {},
   "source": [
    "# Estruturas de controle de fluxo\n",
    "\n",
    "O fluxo de controle de um programa é a ordem em que o código do programa é executado. O fluxo de controle de um programa Python é regulado por instruções condicionais, loops e chamadas de função.\n",
    "\n",
    "Python tem três tipos de estruturas de controle:\n",
    "\n",
    "- Sequencial: modo padrão\n",
    "- Seleção: usado para decisões e ramificação\n",
    "- Repetição: usada para looping, ou seja, repetir um trecho de código várias vezes."
   ]
  },
  {
   "cell_type": "markdown",
   "id": "830d6073-d7f2-4cb9-a5c6-71a3362dc9b9",
   "metadata": {},
   "source": [
    "https://youtu.be/a91qZE3XZmA"
   ]
  },
  {
   "cell_type": "markdown",
   "id": "16de6cad-7168-47a7-9de3-b88f528c713c",
   "metadata": {},
   "source": [
    "# Fluxo convencional (sequencial)\n",
    "\n",
    "As instruções sequenciais são um conjunto de instruções cujo processo de execução ocorre em uma sequência. O problema com as instruções sequenciais é que, se a lógica for interrompida em qualquer uma das linhas, a execução completa do código fonte será interrompida."
   ]
  },
  {
   "cell_type": "code",
   "execution_count": 2,
   "id": "f79c3dd9-cf67-4221-8457-0dd8884954cf",
   "metadata": {},
   "outputs": [
    {
     "name": "stdout",
     "output_type": "stream",
     "text": [
      "subtração é:  10\n"
     ]
    }
   ],
   "source": [
    "a = 20\n",
    "b = 10\n",
    "c = a - b\n",
    "print(\"subtração é: \", c)"
   ]
  },
  {
   "cell_type": "markdown",
   "id": "44fdf56f-3bb6-4037-a5fd-f1d241c45e6a",
   "metadata": {},
   "source": [
    "# Estruturas de seleção\n",
    "\n",
    "Em Python, as instruções de seleção também são conhecidas como instruções de controle de decisão ou instruções de ramificação. A instrução de seleção permite que um programa teste várias condições e execute instruções com base em qual condição é verdadeira. Algumas declarações de controle de decisão são:\n",
    "\n",
    "- if simples\n",
    "- if-else\n",
    "- if aninhado\n",
    "- if-elif-else\n",
    "\n",
    "if simples: são instruções de fluxo de controle que nos ajudam a executar um código específico, mas apenas quando uma determinada condição é atendida ou satisfeita. Um simples se tiver apenas uma condição para verificar."
   ]
  },
  {
   "cell_type": "code",
   "execution_count": 18,
   "id": "e02c14bd-54ce-4b40-8a3e-32282fb8a9de",
   "metadata": {},
   "outputs": [
    {
     "name": "stdout",
     "output_type": "stream",
     "text": [
      "n é um número par\n"
     ]
    }
   ],
   "source": [
    "n = 10\n",
    "if n % 2 == 0:\n",
    "    print(\"n é um número par\")"
   ]
  },
  {
   "cell_type": "markdown",
   "id": "90d3149e-f2a5-42fc-ad55-50de0d4c78a4",
   "metadata": {},
   "source": [
    "if-else: Avalia a condição e executará o corpo de if se a condição de teste for Verdadeira, mas se a condição for Falsa, então o corpo de else é executado."
   ]
  },
  {
   "cell_type": "code",
   "execution_count": 5,
   "id": "20c8c10a-b07a-4387-b2fd-d8e212e4910c",
   "metadata": {},
   "outputs": [
    {
     "name": "stdout",
     "output_type": "stream",
     "text": [
      "n é impar\n"
     ]
    }
   ],
   "source": [
    "n = 5\n",
    "if n % 2 == 0:\n",
    "    print(\"n é par\")\n",
    "else:\n",
    "    print(\"n é impar\")"
   ]
  },
  {
   "cell_type": "markdown",
   "id": "4ed675fd-6b50-4902-8c9f-7aa1e13a93fd",
   "metadata": {},
   "source": [
    "if aninhado: são uma instrução if dentro de outra instrução if."
   ]
  },
  {
   "cell_type": "code",
   "execution_count": 8,
   "id": "33f66a21-1e5a-4889-9365-5c7e69c2c18a",
   "metadata": {},
   "outputs": [
    {
     "name": "stdout",
     "output_type": "stream",
     "text": [
      "c é grande\n"
     ]
    }
   ],
   "source": [
    "a = 5\n",
    "b = 10\n",
    "c = 15\n",
    "if a > b:\n",
    "    if a > c:\n",
    "        print(\"o valor a é grande\")\n",
    "    else:\n",
    "        print(\"o valor c é grande\")\n",
    "elif b > c:\n",
    "    print(\"o valor b é grande\")\n",
    "else:\n",
    "    print(\"c é grande\")"
   ]
  },
  {
   "cell_type": "markdown",
   "id": "175ba54f-8d48-41d0-aa00-0f7fb66478cb",
   "metadata": {},
   "source": [
    "if-elif-else: A instrução if-elif-else é usada para executar condicionalmente uma instrução ou um bloco de instruções."
   ]
  },
  {
   "cell_type": "code",
   "execution_count": 10,
   "id": "57214d42-0a9e-4f46-af22-79c371ce2579",
   "metadata": {},
   "outputs": [
    {
     "name": "stdout",
     "output_type": "stream",
     "text": [
      "x é maior que y\n"
     ]
    }
   ],
   "source": [
    "x = 15\n",
    "y = 12\n",
    "if x == y:\n",
    "    print(\"São iguais\")\n",
    "elif x > y:\n",
    "    print(\"x é maior que y\")\n",
    "else:\n",
    "    print(\"x é menor que y\")"
   ]
  },
  {
   "cell_type": "markdown",
   "id": "6df1cb42-e420-43a4-9fa1-14c78dd4cef9",
   "metadata": {},
   "source": [
    "# Estruturas de repetição\n",
    "\n",
    "Uma instrução de repetição é usada para repetir um grupo (bloco) de instruções de programação. Em Python, geralmente temos dois loops/instruções de repetição:\n",
    "\n",
    "for loop\n",
    "\n",
    "while loop\n",
    "\n",
    "for loop: é usado para iterar sobre uma sequência que é uma lista, tupla, dicionário ou um conjunto. Podemos executar um conjunto de instruções uma vez para cada item em uma lista, tupla ou dicionário."
   ]
  },
  {
   "cell_type": "code",
   "execution_count": 17,
   "id": "9cec4c4a-a906-4d12-b3b5-982a8718df26",
   "metadata": {},
   "outputs": [
    {
     "name": "stdout",
     "output_type": "stream",
     "text": [
      "1 2 3 4 5 0 1 2 3 4 5 6 7 8 9 "
     ]
    }
   ],
   "source": [
    "lst = [1, 2, 3, 4, 5]\n",
    "for i in range(len(lst)):\n",
    "    print(lst[i], end = \" \")\n",
    "for j in range(0, 10):\n",
    "    print(j, end = \" \")"
   ]
  },
  {
   "cell_type": "markdown",
   "id": "49c230b0-0978-446a-8891-c676c55fd27c",
   "metadata": {},
   "source": [
    "while loop: são usados para executar um bloco de instruções repetidamente até que uma determinada condição seja satisfeita. Em seguida, a expressão é verificada novamente e, se ainda for verdadeira, o corpo é executado novamente. Isso continua até que a expressão se torne falsa."
   ]
  },
  {
   "cell_type": "code",
   "execution_count": 19,
   "id": "06188249-5a11-4c49-b3c7-7e316a331897",
   "metadata": {},
   "outputs": [
    {
     "name": "stdout",
     "output_type": "stream",
     "text": [
      "0 1 2 3 4 Fim!\n"
     ]
    }
   ],
   "source": [
    "m = 5\n",
    "i = 0\n",
    "while i < m:\n",
    "    print(i, end = \" \")\n",
    "    i = i + 1\n",
    "print(\"Fim!\")"
   ]
  },
  {
   "cell_type": "markdown",
   "id": "c527a9dd-748d-4c88-b58d-456102aaa261",
   "metadata": {},
   "source": [
    "Para uma explicação completa sobre estruturas de controle de fluxo e repetição, acesse a documentação oficial.\n",
    "https://docs.python.org/3/tutorial/controlflow.html"
   ]
  },
  {
   "cell_type": "markdown",
   "id": "3a3cf043-f9a4-4c72-bb97-7487a10ab508",
   "metadata": {},
   "source": [
    "# Coleções de dados e dicionários\n",
    "\n",
    "Anteriormente, discutimos os Operadores Python. Agora falaremos sobre as diferentes estruturas de dados que o Python nos fornece. Isso inclui listas, tuplas, conjuntos e dicionários.\n",
    "\n",
    "Antes de tudo, o que são estruturas de dados Python? você pode pensar em uma estrutura de dados como uma forma de organizar e armazenar dados de forma que possamos acessá-los e modificá-los com eficiência.\n",
    "\n",
    "Abaixo temos um vídeo sobre as estruturas de dados citadas:"
   ]
  },
  {
   "cell_type": "markdown",
   "id": "cf310125-3ec9-4a58-ae81-339157b11952",
   "metadata": {},
   "source": [
    "https://www.youtube.com/watch?v=6H0sup1qSsY&feature=emb_logo"
   ]
  },
  {
   "cell_type": "markdown",
   "id": "c5e51d7a-d5d0-4f18-ad28-b7ace73209e0",
   "metadata": {},
   "source": [
    "# Funções\n",
    "\n",
    "Uma função é um bloco de código que só é executado quando é chamado. Você pode passar dados, conhecidos como parâmetros, para uma função. Uma função pode retornar dados como resultado. Em Python, uma função é definida usando a palavra-chave def:\n",
    "\n",
    "Para chamar uma função, use o nome da função seguido por parênteses:"
   ]
  },
  {
   "cell_type": "code",
   "execution_count": 3,
   "id": "f40e30f7-42ca-4585-a03b-737cdd2e9b2d",
   "metadata": {},
   "outputs": [
    {
     "name": "stdout",
     "output_type": "stream",
     "text": [
      "Olá, seja bem vindo a minha função.\n"
     ]
    }
   ],
   "source": [
    "def minha_funcao():\n",
    "    print(\"Olá, seja bem vindo a minha função.\")\n",
    "minha_funcao()"
   ]
  },
  {
   "cell_type": "markdown",
   "id": "47a34b9a-ea8c-4431-90c5-32fe773421c1",
   "metadata": {},
   "source": [
    "# Argumentos de funções\n",
    "\n",
    "As informações podem ser passadas para funções como argumentos. Os argumentos são especificados após o nome da função, entre parênteses. Você pode adicionar quantos argumentos quiser, apenas separe-os com uma vírgula. O exemplo a seguir tem uma função com um argumento (nome). Quando a função é chamada, passamos um valor do nome, que é usado dentro da função para imprimir uma saudação:"
   ]
  },
  {
   "cell_type": "code",
   "execution_count": 4,
   "id": "9ab08d62-6d03-409b-bb97-e67cf4a5ff5d",
   "metadata": {},
   "outputs": [
    {
     "name": "stdout",
     "output_type": "stream",
     "text": [
      "Olá,  Lucas\n",
      "Olá,  Khadja\n"
     ]
    }
   ],
   "source": [
    "def minha_funcao(nome):\n",
    "    print(\"Olá, \", nome)\n",
    "minha_funcao(\"Lucas\")\n",
    "minha_funcao(\"Khadja\")"
   ]
  },
  {
   "cell_type": "markdown",
   "id": "c142acb3-9bac-4588-bd72-7ce2d1e560df",
   "metadata": {},
   "source": [
    "As funções em Python podem ou não retornar valores. Para saber mais, acesse o link ou veja o seguinte vídeo:\n",
    "\n",
    "https://www.w3schools.com/python/python_functions.asp"
   ]
  },
  {
   "cell_type": "markdown",
   "id": "908e372e-80f7-422d-b031-9e308309e5b7",
   "metadata": {},
   "source": [
    "# Orientação a objetos\n",
    "Python é uma linguagem de programação multiparadigma. Ele suporta diferentes abordagens de programação. Uma das abordagens populares para resolver um problema de programação é a criação de objetos. Isso é conhecido como Programação Orientada a Objetos (OOP). Um objeto tem duas características: (i) atributos e (ii) comportamento. Vamos dar um exemplo: Um papagaio é um objeto, pois possui as seguintes propriedades:\n",
    "\n",
    "- nome, idade, cor como atributos\n",
    "- cantando, dançando como comportamento\n",
    "\n",
    "O conceito de OOP em Python se concentra na criação de código reutilizável. Este conceito também é conhecido como DRY (Don't Repeat Yourself).\n",
    "\n",
    "Em Python, o conceito de OOP segue alguns princípios básicos:"
   ]
  },
  {
   "cell_type": "markdown",
   "id": "12e35faf-49f1-4329-a9cf-3b6cc709e613",
   "metadata": {},
   "source": [
    "## Classes\n",
    "Uma classe é um projeto para o objeto. Podemos pensar na classe como o esboço de um papagaio com etiquetas. Ele contém todos os detalhes sobre o nome, cores, tamanho etc. Com base nessas descrições, podemos estudar sobre o papagaio. Aqui, um papagaio é um objeto.\n",
    "\n",
    "O exemplo para classe de papagaio pode ser:"
   ]
  },
  {
   "cell_type": "code",
   "execution_count": 5,
   "id": "80e93692-0901-4a90-961b-273c06232985",
   "metadata": {},
   "outputs": [],
   "source": [
    "class Papagaio:\n",
    "    pass"
   ]
  },
  {
   "cell_type": "markdown",
   "id": "ccb876bf-2107-45cd-8fe4-ac8510a89e40",
   "metadata": {},
   "source": [
    "Aqui, usamos a palavra-chave class para definir uma classe vazia Papagaio. Da classe, construímos instâncias. Uma instância é um objeto específico criado a partir de uma classe particular.\n",
    "\n",
    "## Objetos\n",
    "Um objeto (instância) é uma instanciação de uma classe. Quando a classe é definida, apenas a descrição do objeto é definida. Portanto, nenhuma memória ou armazenamento é alocado.\n",
    "\n",
    "O exemplo de objeto da classe papagaio pode ser:"
   ]
  },
  {
   "cell_type": "code",
   "execution_count": 6,
   "id": "e50a8f88-c826-4c2f-8180-979b54a4c12a",
   "metadata": {},
   "outputs": [],
   "source": [
    "obj = Papagaio()"
   ]
  },
  {
   "cell_type": "markdown",
   "id": "c3522a66-6a8c-432f-946d-63c2782a9030",
   "metadata": {},
   "source": [
    "Aqui, obj é um objeto da classe Papagaio.\n",
    "\n",
    "Suponha que temos detalhes de papagaios. Agora, vamos mostrar como construir a classe e os objetos dos papagaios."
   ]
  },
  {
   "cell_type": "code",
   "execution_count": 8,
   "id": "55be01b6-d550-4470-b769-af45ccd187fc",
   "metadata": {},
   "outputs": [
    {
     "name": "stdout",
     "output_type": "stream",
     "text": [
      "Azul is 10 yeard old\n"
     ]
    }
   ],
   "source": [
    "class Papagaio:\n",
    "    especie = \"passáro\"\n",
    "    def __init__(self, nome, idade):\n",
    "        self.nome = nome\n",
    "        self.idade = idade\n",
    "azul = Papagaio(\"Azul\", 10)\n",
    "ada = Papagaio(\"Ada\", 15)\n",
    "# acessar os atributos da instância\n",
    "print(\"{} is {} yeard old\".format(azul.nome, azul.idade))"
   ]
  },
  {
   "cell_type": "markdown",
   "id": "bdc99919-8f6a-4f7e-85c4-18fa8883f6c0",
   "metadata": {},
   "source": [
    "No programa acima, criamos uma classe com o nome Papagaio. Então, definimos atributos. Os atributos são uma característica de um objeto.\n",
    "\n",
    "Esses atributos são definidos dentro do método __ init__ da classe. É o método inicializador que é executado pela primeira vez assim que o objeto é criado.\n",
    "\n",
    "Em seguida, criamos instâncias da classe Papagaio. Aqui, azul e ada são referências (valor) para nossos novos objetos.\n",
    "\n",
    "Para aprender mais sobre classes e objetos, vá para Classes e objetos Python."
   ]
  },
  {
   "cell_type": "code",
   "execution_count": null,
   "id": "2e8ce7f0-bde2-4a21-be22-748eba1b4ce9",
   "metadata": {},
   "outputs": [],
   "source": []
  },
  {
   "cell_type": "code",
   "execution_count": null,
   "id": "abf73ecb-6acd-4cfb-8641-2c15d3d2b277",
   "metadata": {},
   "outputs": [],
   "source": []
  }
 ],
 "metadata": {
  "kernelspec": {
   "display_name": "Python 3 (ipykernel)",
   "language": "python",
   "name": "python3"
  },
  "language_info": {
   "codemirror_mode": {
    "name": "ipython",
    "version": 3
   },
   "file_extension": ".py",
   "mimetype": "text/x-python",
   "name": "python",
   "nbconvert_exporter": "python",
   "pygments_lexer": "ipython3",
   "version": "3.8.10"
  }
 },
 "nbformat": 4,
 "nbformat_minor": 5
}
