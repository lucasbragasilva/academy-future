{
 "cells": [
  {
   "cell_type": "markdown",
   "id": "348472e6-8ed5-43a6-86b6-1769991c0496",
   "metadata": {},
   "source": [
    "# Introdução ao Numpy e ao Pandas\n",
    "Após concluir esta unidade, você estará apto a:\n",
    "\n",
    "- Entender as principais características das bibliotecas Numpy e Pandas;\n",
    "- Aprender a utilização de objetos dos tipos ndarrays, Series e DataFrames;\n",
    "- Utilizar as principais funcionalidades do NumPy e Pandas para tratamento, manipulação e análise de dados."
   ]
  },
  {
   "cell_type": "markdown",
   "id": "9d41db43-7e9e-4928-bf39-264566f6fafa",
   "metadata": {},
   "source": [
    "# Numpy\n",
    "NumPy é uma biblioteca Python de código aberto que facilita operações numéricas eficientes em grandes quantidades de dados. A estrutura de dados principal nesta biblioteca é o poderoso array NumPy, __[ndarray](https://numpy.org/doc/stable/reference/generated/numpy.ndarray.html)__, que pode ter qualquer número de dimensões. A biblioteca NumPy contém muitos recursos úteis para realizar operações matemáticas e lógicas nessas matrizes especiais. NumPy é uma parte de um conjunto de bibliotecas Python que são usadas para computação científica devido aos seus recursos de análise de dados eficientes."
   ]
  },
  {
   "cell_type": "markdown",
   "id": "4ba45faf-867d-49c4-a5af-287786354cb4",
   "metadata": {
    "tags": []
   },
   "source": [
    "# Pandas\n",
    "Pandas é uma biblioteca com ferramentas de manipulação de dados que são construídas em cima e adicionadas àquelas da biblioteca NumPy estabelecida. Ele se baseia na estrutura do array NumPy para implementação de seus objetos e, portanto, compartilha muitos recursos com o NumPy e é frequentemente usado junto com ele. O Pandas também faz parte do conjunto de bibliotecas usadas para computação científica."
   ]
  },
  {
   "cell_type": "markdown",
   "id": "7ee294d2-bd83-444f-9e00-bc2622910b74",
   "metadata": {},
   "source": [
    "# Instalação\n",
    "Para instalar as biblitecas NumPy e Pandas, basta utilizar o seguinte comando:\n",
    "\n",
    "- pip install numpy pandas\n",
    "\n",
    "Ou, se você estiver utilizando o Poetry:\n",
    "\n",
    "- poetry add numpy pandas\n",
    "\n",
    "Ou ainda, se você estiver utilizando o Anaconda:\n",
    "\n",
    "- conda install numpy pandas\n",
    "\n",
    "Depois de instalar essas bibliotecas, você está pronto para abrir qualquer ambiente de codificação Python (recomendamos o Jupyter Notebook). Antes de usar essas bibliotecas, você precisará importá-las usando as seguintes linhas de código. Usaremos as abreviações np e pd, respectivamente, para simplificar nossas chamadas de função no futuro."
   ]
  },
  {
   "cell_type": "code",
   "execution_count": 1,
   "id": "c7d7b21f-0644-4d73-8dcc-a22747d7c82c",
   "metadata": {},
   "outputs": [],
   "source": [
    "import numpy as np\n",
    "import pandas as pd"
   ]
  },
  {
   "cell_type": "markdown",
   "id": "23aea2b9-b855-48f2-97a9-359a2c7253ef",
   "metadata": {},
   "source": [
    "# Matrizes NumPy (NumPy Arrays)\n",
    "Os NumPy arrays são únicos por serem mais flexíveis do que as listas normais do Python. Eles são chamados de ndarrays, pois podem ter qualquer número de dimensões. Eles contêm uma coleção de itens de qualquer tipo de dados e podem ser um vetor (unidimensional) ou uma matriz (multidimensional). Os NumPy arrays permitem acesso rápido a elementos e manipulação de dados eficiente.\n",
    "\n",
    "O código a seguir inicializa uma lista Python chamada list1:"
   ]
  },
  {
   "cell_type": "code",
   "execution_count": 5,
   "id": "945c91f7-56a9-4357-912a-cf8fad3805d1",
   "metadata": {},
   "outputs": [
    {
     "name": "stdout",
     "output_type": "stream",
     "text": [
      "[1, 2, 3, 4]\n",
      "<class 'list'>\n"
     ]
    }
   ],
   "source": [
    "list1 = [1, 2, 3, 4]\n",
    "print(list1)\n",
    "print(type(list1))"
   ]
  },
  {
   "cell_type": "markdown",
   "id": "2139f5ee-bc83-421a-b046-8321b03afb4f",
   "metadata": {},
   "source": [
    "Para converter isso em um ndarray unidimensional com uma linha e quatro colunas, podemos usar a função np.array():"
   ]
  },
  {
   "cell_type": "code",
   "execution_count": 6,
   "id": "062d054d-e261-4479-b9e7-003a279bc71a",
   "metadata": {},
   "outputs": [
    {
     "name": "stdout",
     "output_type": "stream",
     "text": [
      "[1 2 3 4]\n",
      "<class 'numpy.ndarray'>\n"
     ]
    }
   ],
   "source": [
    "array1 = np.array(list1)\n",
    "print(array1)\n",
    "print(type(array1))"
   ]
  },
  {
   "cell_type": "markdown",
   "id": "8a649488-60cb-49da-9c97-e2646363d5cf",
   "metadata": {},
   "source": [
    "Para obter um ndarray bidimensional de uma lista, devemos começar com uma lista de listas Python:"
   ]
  },
  {
   "cell_type": "code",
   "execution_count": 9,
   "id": "60826d65-12b8-42ed-9b82-70ddba9b9375",
   "metadata": {},
   "outputs": [
    {
     "name": "stdout",
     "output_type": "stream",
     "text": [
      "[[1, 2, 3], [4, 5, 6]]\n",
      "[[1 2 3]\n",
      " [4 5 6]]\n"
     ]
    }
   ],
   "source": [
    "list2 =[[1, 2, 3], [4, 5, 6]]\n",
    "print(list2)\n",
    "array2 = np.array(list2)\n",
    "print(array2)"
   ]
  },
  {
   "cell_type": "markdown",
   "id": "cafa6db2-5a5b-45bb-8916-b5c54b55c2e2",
   "metadata": {},
   "source": [
    "Na saída acima, você pode notar que a impressão do NumPy array é exibida de uma forma que demonstra claramente sua estrutura multidimensional: duas linhas e três colunas.\n",
    "\n",
    "Muitas operações podem ser realizadas em NumPy arrays, o que os torna muito úteis para manipular dados:\n",
    "\n",
    "- Selecionar elementos do array\n",
    "- Fatiar arrays\n",
    "- Redimensionar arrays\n",
    "- Dividir arrays\n",
    "- Combinar arrays\n",
    "- Operações numéricas (min, max, mean, etc)\n",
    "\n",
    "As operações matemáticas podem ser executadas em todos os valores em um ndarray de uma só vez, em vez de ter que percorrer os valores, como é necessário com uma lista Python. Isso é muito útil em muitos cenários. Digamos que você seja dono de uma loja de brinquedos e decida diminuir o preço de todos os brinquedos em € 2 para uma promoção de fim de semana. Com os preços dos brinquedos armazenados em um ndarray, você pode facilitar essa operação facilmente."
   ]
  },
  {
   "cell_type": "code",
   "execution_count": 10,
   "id": "c367ae60-3eee-4ce6-bb99-4f5e0e5efa57",
   "metadata": {},
   "outputs": [
    {
     "name": "stdout",
     "output_type": "stream",
     "text": [
      "[3 6 1 4]\n"
     ]
    }
   ],
   "source": [
    "precos = np.array([5, 8, 3, 6])\n",
    "print(precos - 2)"
   ]
  },
  {
   "cell_type": "code",
   "execution_count": 26,
   "id": "6c331854-bacc-460a-9636-0d0d9e89eab8",
   "metadata": {},
   "outputs": [
    {
     "name": "stdout",
     "output_type": "stream",
     "text": [
      "5 8 3 6 4\n"
     ]
    }
   ],
   "source": [
    "# teste\n",
    "preco = [5, 8, 3, 6]\n",
    "for i in range(0, len(preco)):\n",
    "    print(preco[i], end = \" \")\n",
    "print(len(preco))"
   ]
  },
  {
   "cell_type": "markdown",
   "id": "13c6ac49-4de1-4199-85e0-665c125122df",
   "metadata": {},
   "source": [
    "Se, no entanto, você tivesse armazenado os preços em uma lista Python, teria que percorrer manualmente toda a lista para diminuir em cada preço.\n",
    "\n",
    "Para aprender mais sobre NumPy, assista o seguinte vídeo:\n",
    "__[Python NumPy Tutotial for Beginners](https://www.youtube.com/watch?v=QUT1VHiLmmI&feature=emb_logo)__"
   ]
  },
  {
   "cell_type": "markdown",
   "id": "db9c6980-fd6d-43eb-9453-1458b0513630",
   "metadata": {},
   "source": [
    "# Pandas Series e Dataframes\n",
    "Assim como o ndarray é a base da biblioteca NumPy, a Series é o objeto central da biblioteca pandas. Um objeto Series no pandas é muito semelhante a uma NumPy array unidimensional, mas tem funcionalidade adicional que permite que os valores da série sejam indexados usando rótulos. Um NumPy ndarray não tem flexibilidade para fazer isso. Essa identificação é útil quando você está armazenando dados que possuem outros dados associados a eles. Digamos que você queira armazenar as idades dos alunos em um curso online para, eventualmente, descobrir a idade média dos alunos. Se armazenado em ndarray, você só poderia acessar essas idades com os índices internos 0,1,2 ... Com um objeto Series, os índices de valores são definidos como 0,1,2 ... por padrão, mas você pode personalizar os índices para serem outros valores, como nomes de alunos, para que uma idade possa ser acessada usando um nome. Os índices personalizados de uma Série são estabelecidos enviando valores para o construtor da Série, como você verá a seguir.\n",
    "\n",
    "Uma série contém itens de qualquer tipo de dados e pode ser criada enviando um valor escalar, lista Python, dicionário ou ndarray como parâmetro para o construtor da série pandas. Se um dicionário for enviado, as chaves podem ser usadas como índices."
   ]
  },
  {
   "cell_type": "code",
   "execution_count": 28,
   "id": "a7232fec-218b-4757-bde2-f027fd29239b",
   "metadata": {},
   "outputs": [
    {
     "name": "stdout",
     "output_type": "stream",
     "text": [
      "0    13\n",
      "1    25\n",
      "2    19\n",
      "dtype: int32\n"
     ]
    }
   ],
   "source": [
    "# Crie uma série usando uma matriz NumPy de idades com índices numéricos padrão\n",
    "idades = np.array([13, 25, 19])\n",
    "series_1 = pd.Series(idades)\n",
    "print(series_1)"
   ]
  },
  {
   "cell_type": "markdown",
   "id": "f413a330-3278-4f25-aa9f-fe5c675595d5",
   "metadata": {},
   "source": [
    "Ao imprimir uma série, o tipo de dados de seus elementos também é impresso. Para personalizar os índices de um objeto Series, use o argumento index do construtor Series."
   ]
  },
  {
   "cell_type": "code",
   "execution_count": 29,
   "id": "48ff4ebd-871d-4313-b895-77ea9b29e4aa",
   "metadata": {},
   "outputs": [
    {
     "name": "stdout",
     "output_type": "stream",
     "text": [
      "João     13\n",
      "Maria    25\n",
      "José     19\n",
      "dtype: int32\n"
     ]
    }
   ],
   "source": [
    "idades = np.array([13, 25, 19])\n",
    "series1 = pd.Series(idades, index = ['João', 'Maria', 'José'])\n",
    "print(series1)"
   ]
  },
  {
   "cell_type": "markdown",
   "id": "0e287adc-e857-4de7-b802-e930151686d9",
   "metadata": {},
   "source": [
    "Os objetos Series fornecem mais informações do que os arrays NumPy. Imprimir uma ndarray de idades não imprime os índices nem nos permite personalizá-los.\n",
    "\n",
    "Outro tipo importante de objeto na biblioteca do pandas é o __[DataFrame](https://pandas.pydata.org/pandas-docs/stable/reference/api/pandas.DataFrame.html)__. Este objeto é semelhante em forma a uma matriz, pois consiste em linhas e colunas. Tanto as linhas quanto as colunas podem ser indexadas com números inteiros ou nomes de String. Um DataFrame pode conter muitos tipos diferentes de tipos de dados, mas dentro de uma coluna, tudo deve ser o mesmo tipo de dados. Uma coluna de um DataFrame é essencialmente uma série. Todas as colunas devem ter o mesmo número de elementos (linhas).\n",
    "\n",
    "Existem diferentes maneiras de preencher um DataFrame, como com um arquivo CSV, uma consulta SQL, uma lista Python ou um dicionário. Aqui, criamos um DataFrame usando uma lista de listas Python. Cada lista aninhada representa os dados em uma linha do DataFrame. Usamos as colunas de palavras-chave para passar a lista de nossos nomes de coluna personalizados."
   ]
  },
  {
   "cell_type": "code",
   "execution_count": 41,
   "id": "699c30cf-4ad8-4c8e-a673-f53e662003b4",
   "metadata": {},
   "outputs": [
    {
     "data": {
      "text/html": [
       "<div>\n",
       "<style scoped>\n",
       "    .dataframe tbody tr th:only-of-type {\n",
       "        vertical-align: middle;\n",
       "    }\n",
       "\n",
       "    .dataframe tbody tr th {\n",
       "        vertical-align: top;\n",
       "    }\n",
       "\n",
       "    .dataframe thead th {\n",
       "        text-align: right;\n",
       "    }\n",
       "</style>\n",
       "<table border=\"1\" class=\"dataframe\">\n",
       "  <thead>\n",
       "    <tr style=\"text-align: right;\">\n",
       "      <th></th>\n",
       "      <th>nome</th>\n",
       "      <th>endereco</th>\n",
       "      <th>idade</th>\n",
       "    </tr>\n",
       "  </thead>\n",
       "  <tbody>\n",
       "    <tr>\n",
       "      <th>0</th>\n",
       "      <td>Linus Torvalds</td>\n",
       "      <td>123 Main St</td>\n",
       "      <td>51</td>\n",
       "    </tr>\n",
       "    <tr>\n",
       "      <th>1</th>\n",
       "      <td>Guido Van Rossum</td>\n",
       "      <td>456 Maple Ave</td>\n",
       "      <td>65</td>\n",
       "    </tr>\n",
       "    <tr>\n",
       "      <th>2</th>\n",
       "      <td>Richard Stallman</td>\n",
       "      <td>789 Broadway</td>\n",
       "      <td>68</td>\n",
       "    </tr>\n",
       "  </tbody>\n",
       "</table>\n",
       "</div>"
      ],
      "text/plain": [
       "               nome       endereco  idade\n",
       "0    Linus Torvalds    123 Main St     51\n",
       "1  Guido Van Rossum  456 Maple Ave     65\n",
       "2  Richard Stallman   789 Broadway     68"
      ]
     },
     "execution_count": 41,
     "metadata": {},
     "output_type": "execute_result"
    }
   ],
   "source": [
    "df = pd.DataFrame([\n",
    "    ['Linus Torvalds', '123 Main St', 51],\n",
    "    ['Guido Van Rossum', '456 Maple Ave', 65],\n",
    "    ['Richard Stallman', '789 Broadway', 68],\n",
    "], columns = ['nome', 'endereco', 'idade'])\n",
    "df"
   ]
  },
  {
   "cell_type": "markdown",
   "id": "71442170-f061-4eca-b330-0f2b5e0b8e60",
   "metadata": {},
   "source": [
    "Os índices de linha padrão são 0,1,2 ..., mas podem ser alterados. Por exemplo, eles podem ser definidos para serem os elementos em uma das colunas do DataFrame. Para usar a coluna de nomes como índices em vez dos valores numéricos padrão, podemos executar o seguinte comando em nosso DataFrame:"
   ]
  },
  {
   "cell_type": "code",
   "execution_count": 50,
   "id": "a2b7d20e-1249-4468-8bb0-cc4f10ecd4ed",
   "metadata": {},
   "outputs": [
    {
     "data": {
      "text/html": [
       "<div>\n",
       "<style scoped>\n",
       "    .dataframe tbody tr th:only-of-type {\n",
       "        vertical-align: middle;\n",
       "    }\n",
       "\n",
       "    .dataframe tbody tr th {\n",
       "        vertical-align: top;\n",
       "    }\n",
       "\n",
       "    .dataframe thead th {\n",
       "        text-align: right;\n",
       "    }\n",
       "</style>\n",
       "<table border=\"1\" class=\"dataframe\">\n",
       "  <thead>\n",
       "    <tr style=\"text-align: right;\">\n",
       "      <th></th>\n",
       "      <th>endereco</th>\n",
       "      <th>idade</th>\n",
       "    </tr>\n",
       "    <tr>\n",
       "      <th>nome</th>\n",
       "      <th></th>\n",
       "      <th></th>\n",
       "    </tr>\n",
       "  </thead>\n",
       "  <tbody>\n",
       "    <tr>\n",
       "      <th>Linus Torvalds</th>\n",
       "      <td>123 Main St</td>\n",
       "      <td>51</td>\n",
       "    </tr>\n",
       "    <tr>\n",
       "      <th>Guido Van Rossum</th>\n",
       "      <td>456 Maple Ave</td>\n",
       "      <td>65</td>\n",
       "    </tr>\n",
       "    <tr>\n",
       "      <th>Richard Stallman</th>\n",
       "      <td>789 Broadway</td>\n",
       "      <td>68</td>\n",
       "    </tr>\n",
       "  </tbody>\n",
       "</table>\n",
       "</div>"
      ],
      "text/plain": [
       "                       endereco  idade\n",
       "nome                                  \n",
       "Linus Torvalds      123 Main St     51\n",
       "Guido Van Rossum  456 Maple Ave     65\n",
       "Richard Stallman   789 Broadway     68"
      ]
     },
     "execution_count": 50,
     "metadata": {},
     "output_type": "execute_result"
    }
   ],
   "source": [
    "df.set_index('nome')\n",
    "# df.set_index([pd.Index([1,2,3]), 'nome'])"
   ]
  },
  {
   "cell_type": "markdown",
   "id": "578545cf-5105-4409-88d7-7ecfc48cca85",
   "metadata": {},
   "source": [
    "DataFrames são úteis porque tornam muito mais fácil selecionar, manipular e resumir dados. Seu formato tabular (uma tabela com linhas e colunas) também torna mais fácil rotular, ler e exportar dados de e para uma planilha. Compreender o poder dessas novas estruturas de dados é a chave para desbloquear muitos novos caminhos para manipulação, exploração e análise de dados!\n",
    "\n",
    "Para aprender sobre Pandas, confira o vídeo a seguir: [Python Pandas](https://www.youtube.com/watch?time_continue=1&v=vmEHCJofslg&feature=emb_logo)"
   ]
  },
  {
   "cell_type": "code",
   "execution_count": null,
   "id": "39cb958d-d2c7-4f27-b4ba-728b77d9691f",
   "metadata": {},
   "outputs": [],
   "source": []
  }
 ],
 "metadata": {
  "kernelspec": {
   "display_name": "Python 3 (ipykernel)",
   "language": "python",
   "name": "python3"
  },
  "language_info": {
   "codemirror_mode": {
    "name": "ipython",
    "version": 3
   },
   "file_extension": ".py",
   "mimetype": "text/x-python",
   "name": "python",
   "nbconvert_exporter": "python",
   "pygments_lexer": "ipython3",
   "version": "3.8.10"
  }
 },
 "nbformat": 4,
 "nbformat_minor": 5
}
