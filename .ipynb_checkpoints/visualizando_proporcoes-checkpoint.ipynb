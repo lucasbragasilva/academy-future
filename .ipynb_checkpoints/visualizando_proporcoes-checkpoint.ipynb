{
 "cells": [
  {
   "cell_type": "markdown",
   "id": "eec26d14-f250-4a9c-b623-9aea9b477c8f",
   "metadata": {},
   "source": [
    "# Visualizando proporções e associações entre duas ou mais variáveis\n",
    "Após concluir esta unidade você estará apto a:\n",
    "\n",
    "- Entender como representar proporções através de visualizações de dados\n",
    "- Aprender a criar gráficos de pizza e de barras\n",
    "- Aprender a representar relações através de gráficos de dispersão\n",
    "- Utilizar as bibliotecas matplotlib e seaborn para criar gráficos de barras, pizza, bolha, rosca e dispersão\n",
    "## Visualizando proporções\n",
    "Muitas vezes, queremos mostrar como algum grupo, entidade ou quantidade se divide em partes individuais, em que cada uma representa uma proporção do todo. Os exemplos comuns incluem as proporções de homens e mulheres em um grupo de pessoas, as porcentagens de pessoas que votam em diferentes partidos políticos em uma eleição ou as participações de mercado das empresas. O arquétipo dessa visualização é o gráfico de pizza, onipresente em qualquer apresentação de negócios e muito difamado entre os cientistas de dados. Como veremos, visualizar proporções pode ser desafiador, em particular quando o todo é dividido em muitas partes diferentes ou quando queremos ver mudanças nas proporções ao longo do tempo ou entre as condições. Não existe uma visualização ideal única que sempre funcione. Para ilustrar esse problema, discuto alguns cenários diferentes em que cada um exige um tipo diferente de visualização.\n",
    "\n",
    "## Gráficos de pizza\n",
    "Gráficos de pizza são gráficos divididos em setores, cada setor da pizza exibe o tamanho de uma parte da informação relacionada. Gráficos de pizza são normalmente utilizados para exibir os tamanhos relativos das partes de um todo."
   ]
  },
  {
   "cell_type": "code",
   "execution_count": null,
   "id": "dcf15af3-3017-4de7-bfc4-564199a877fd",
   "metadata": {},
   "outputs": [],
   "source": []
  }
 ],
 "metadata": {
  "kernelspec": {
   "display_name": "Python 3",
   "language": "python",
   "name": "python3"
  },
  "language_info": {
   "codemirror_mode": {
    "name": "ipython",
    "version": 3
   },
   "file_extension": ".py",
   "mimetype": "text/x-python",
   "name": "python",
   "nbconvert_exporter": "python",
   "pygments_lexer": "ipython3",
   "version": "3.8.8"
  }
 },
 "nbformat": 4,
 "nbformat_minor": 5
}
