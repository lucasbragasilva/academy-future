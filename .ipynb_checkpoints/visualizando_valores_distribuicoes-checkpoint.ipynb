{
 "cells": [
  {
   "cell_type": "markdown",
   "id": "b705c81d-7237-4c58-88be-f050db8858ce",
   "metadata": {},
   "source": [
    "# Visualizando valores e distribuições\n",
    "Após concluir esta unidade você estará apto a:\n",
    "\n",
    "- Entender como representar dados categóricos através de visualizações de dados\n",
    "- Aprender a criar gráficos de barras, horizontais e verticais\n",
    "- Aprender a representar distribuições de uma ou mais variáveis utilizando histogramas e gráficos de densidade\n",
    "- Utilizar as bibliotecas matplotlib e seaborn para criar gráficos de barras, histogramas e gráficos de densidade\n",
    "\n",
    "Em muitos cenários, estamos interessados na magnitude de algum conjunto de números. Por exemplo, podemos querer visualizar o volume total de vendas de diferentes marcas de carros, ou o número total de pessoas que vivem em cidades diferentes, ou a idade dos olímpicos praticando esportes diferentes. Em todos esses casos, temos um conjunto de categorias (por exemplo, marcas de carros, cidades ou esportes) e um valor quantitativo para cada categoria. A ênfase principal nessas visualizações estará na magnitude dos valores quantitativos. A visualização padrão neste cenário é o gráfico de barras, que vem em diversas variações, incluindo barras simples, bem como barras agrupadas e empilhadas. As alternativas para o gráfico de barra são o gráfico de pontos e o mapa de calor.\n",
    "\n",
    "# Gráficos de barra\n",
    "Vamos considerar um exemplo de vendas de entradas para cinema. Considere o total de vendas de ingressos para os filmes mais populares em um determinado fim de semana. A Tabela abaixo mostra as cinco principais vendas brutas de ingressos de fim de semana no fim de semana de Natal de 2017. O filme \"Star Wars: The Last Jedi\" foi de longe o filme mais popular naquele fim de semana, superando os filmes do quarto e quinto classificados \"The Greatest Showman\" e \"Ferdinand\" por quase um fator de 10."
   ]
  },
  {
   "cell_type": "markdown",
   "id": "38b96d49-df73-4130-a7fc-b0c91c8f79d9",
   "metadata": {},
   "source": [
    "Esse tipo de dado é comumente visualizado com barras verticais. Para cada filme, desenhamos uma barra que começa em zero e se estende até o valor em dólar para o fim de semana bruto desse filme (Figura abaixo). Essa visualização é chamada de gráfico de barras ou gráfico de barras.\n",
    "\n",
    "Um problema que comumente encontramos com barras verticais é que os rótulos que identificam cada barra ocupam muito espaço horizontal. Para economizar espaço horizontal, podemos colocar as barras mais próximas e girar os rótulos. No entanto, não é uma boa opção. A melhor solução para rótulos longos é geralmente trocar os eixos x e y, de modo que as barras funcionem horizontalmente (Figura abaixo). Como resultado, a figura é muito mais fácil de ler.\n",
    "\n",
    "Em python, você poderá utilizar a biblioteca matplotlib para criar gráficos em barra. Este blog post dá informações de como criar gráficos de barra utilizando o matplotlib. O vídeo abaixo também mostra um tutorial de como utilizar esta biblioteca para criar gráficos de barra: [Link](https://www.youtube.com/watch?v=iedmZlFxjfA)"
   ]
  },
  {
   "cell_type": "code",
   "execution_count": 9,
   "id": "b76a74da-88ad-4d00-8a86-83ca90ff8568",
   "metadata": {},
   "outputs": [],
   "source": [
    "import matplotlib.pyplot as plt\n",
    "import numpy as np\n",
    "%matplotlib inline"
   ]
  },
  {
   "cell_type": "code",
   "execution_count": 15,
   "id": "58932da8-5340-479e-b9c2-2d33130b1140",
   "metadata": {},
   "outputs": [],
   "source": [
    "company = ['GOOGL', 'AMZN', 'MSFT', 'FB']\n",
    "revenue = [90, 136, 89, 27]\n",
    "profit = [40, 2, 34, 12]"
   ]
  },
  {
   "cell_type": "code",
   "execution_count": 20,
   "id": "3b32e0ec-18d2-449e-86cf-82a9ef4aac19",
   "metadata": {},
   "outputs": [
    {
     "data": {
      "text/plain": [
       "array([0, 1, 2, 3])"
      ]
     },
     "execution_count": 20,
     "metadata": {},
     "output_type": "execute_result"
    }
   ],
   "source": [
    "xpos = np.arange(len(company))\n",
    "xpos"
   ]
  },
  {
   "cell_type": "code",
   "execution_count": 29,
   "id": "2bdc0be9-e6f3-457e-8675-9dcb56ec8b4a",
   "metadata": {},
   "outputs": [
    {
     "data": {
      "text/plain": [
       "<matplotlib.legend.Legend at 0x24d7e71c430>"
      ]
     },
     "execution_count": 29,
     "metadata": {},
     "output_type": "execute_result"
    },
    {
     "data": {
      "image/png": "[encoded data removed]",
      "text/plain": [
       "<Figure size 432x288 with 1 Axes>"
      ]
     },
     "metadata": {
      "needs_background": "light"
     },
     "output_type": "display_data"
    }
   ],
   "source": [
    "plt.xticks(xpos, company) # substituira os 0, 1, 2, 3 pelo conteuido da lista company, no caso GOOGL', 'AMZN', 'MSFT', 'FB'\n",
    "plt.ylabel(\"revenue(bln)\") #label eixo y\n",
    "plt.title(\"US Tech Stocks\") #title(título) gráfico\n",
    "plt.bar(xpos-0.2, revenue, width = 0.4, label = \"Revenue\") # exibir a barra | label(legenda), chamar usando o comando plt.legend() |\n",
    "plt.bar(xpos+0.2, profit, width = 0.4, label = \"Profit\") # width = largura da barra | +/- 0.2 são os espaçamento entre as duas barras\n",
    "plt.legend()"
   ]
  },
  {
   "cell_type": "code",
   "execution_count": 31,
   "id": "0e2cca6a-934b-4740-a888-4252689e2ba2",
   "metadata": {},
   "outputs": [
    {
     "data": {
      "text/plain": [
       "<matplotlib.legend.Legend at 0x24d7e87c820>"
      ]
     },
     "execution_count": 31,
     "metadata": {},
     "output_type": "execute_result"
    },
    {
     "data": {
      "image/png": "[encoded data removed]",
      "text/plain": [
       "<Figure size 432x288 with 1 Axes>"
      ]
     },
     "metadata": {
      "needs_background": "light"
     },
     "output_type": "display_data"
    }
   ],
   "source": [
    "plt.yticks(xpos, company) \n",
    "plt.title(\"US Tech Stocks\") \n",
    "\n",
    "plt.barh(xpos-0.2, revenue, label = \"Revenue\") \n",
    "plt.barh(xpos+0.2, profit, label = \"Profit\")\n",
    "plt.legend()"
   ]
  },
  {
   "cell_type": "markdown",
   "id": "afeddcd1-6de9-46fa-abbf-14d2b7766084",
   "metadata": {},
   "source": [
    "Você também pode conferir a [documentação oficial](https://matplotlib.org/stable/api/_as_gen/matplotlib.pyplot.bar.html) da biblioteca."
   ]
  },
  {
   "cell_type": "markdown",
   "id": "3d5b9856-75db-41b1-922a-6be82379cc4e",
   "metadata": {},
   "source": [
    "# Gráficos de barra agrupados\n",
    "Todos os exemplos anteriores mostraram como valores quantitativos variavam em relação a uma variável categórica. Frequentemente, entretanto, estamos interessados em duas variáveis categóricas ao mesmo tempo. Por exemplo, o \"U.S. Census Bureau\" fornece níveis de renda média divididos por idade e raça. Podemos visualizar esse conjunto de dados com um gráfico de barras agrupadas abaixo. Em um gráfico de barras agrupadas, desenhamos um grupo de barras em cada posição ao longo do eixo x, determinado por uma variável categórica, e então desenhamos barras dentro de cada grupo de acordo com a outra variável categórica."
   ]
  },
  {
   "cell_type": "markdown",
   "id": "61dec112-27fe-40e8-8e6d-b43e6e50dccc",
   "metadata": {},
   "source": [
    "Para saber como construir gráficos de barras agrupadas no matplotlib, utilize o seguinte [link](https://matplotlib.org/3.1.0/gallery/lines_bars_and_markers/barchart.html).\n",
    "\n",
    "Nota: gráficos de barras agrupadas mostram muitas informações de uma vez e podem ser confusos. Uma alternativa seria plotar gráficos de barras lado a lado. No entanto, às vezes é preferível empilhar as barras umas sobre as outras. O empilhamento é útil quando a soma dos valores representados pelas barras empilhadas individuais é em si um valor significativo. O empilhamento também é apropriado quando as barras individuais representam contagens. Por exemplo, em um conjunto de dados de pessoas, podemos contar homens e mulheres separadamente ou podemos contá-los juntos. Se empilharmos uma barra representando uma contagem de mulheres em cima de uma barra representando uma contagem de homens, a altura combinada da barra representará a contagem total de pessoas, independentemente do sexo.\n",
    "\n",
    "Para construir gráficos de barras empilhadas no matplotlib, utilize este [link](https://matplotlib.org/stable/gallery/lines_bars_and_markers/bar_stacked.html).\n",
    "\n",
    "Vamos demonstrar esse princípio usando um conjunto de dados sobre os passageiros do transatlântico Titanic, que naufragou em 15 de abril de 1912. A bordo estavam aproximadamente 1.300 passageiros, sem contar a tripulação. Os passageiros viajavam em uma das três classes (1ª, 2ª ou 3ª) e havia quase o dobro de passageiros homens do que mulheres no navio. Para visualizar a distribuição dos passageiros por classe e gênero, podemos desenhar barras separadas para cada classe e gênero e empilhar as barras que representam as mulheres no topo das barras que representam os homens, separadamente para cada classe (Figura abaixo). As barras combinadas representam o número total de passageiros em cada classe."
   ]
  },
  {
   "cell_type": "markdown",
   "id": "5ba3ac07-e50e-4008-87da-13f9a98236f9",
   "metadata": {},
   "source": [
    "A Figura acima difere dos gráficos de barra anteriores por não haver um eixo y explícito. Em vez disso, são mostrados os valores numéricos reais que cada barra representa. Sempre que um gráfico deve exibir apenas um pequeno número de valores diferentes, faz sentido adicionar os números reais ao gráfico. Isso aumenta substancialmente a quantidade de informações transmitidas pelo gráfico sem adicionar muito ruído visual e elimina a necessidade de um eixo y explícito.\n",
    "\n",
    "Uma alternativa interessante ao gráfico de barras agrupadas (sejam lado a lado ou empilhadas) é a utilização de mapas de calor (ou heatmaps). Para saber mais e como criar utilizando a biblioteca matplotlib, utilize este [link](https://matplotlib.org/stable/gallery/images_contours_and_fields/image_annotated_heatmap.html).\n",
    "\n",
    "Além da biblioteca matplotlib, você também poderá utilizar a biblioteca seaborn para construir visualizações uitlizando Python. Confira a aula a seguir e saiba mais: [link](https://www.youtube.com/watch?time_continue=5&v=3Yh4U5OB5Sk&feature=emb_logo)"
   ]
  },
  {
   "cell_type": "markdown",
   "id": "9807ffb9-26a6-4b6e-8a78-d0a29f7145ca",
   "metadata": {},
   "source": [
    "# Visualizando distribuições: Histogramas e gráficos de densidade\n",
    "Freqüentemente encontramos a situação em que gostaríamos de entender como uma determinada variável é distribuída em um conjunto de dados. Para dar um exemplo concreto, consideraremos novamente os passageiros do Titanic. Havia aproximadamente 1300 passageiros no Titanic (sem contar a tripulação) e relatamos as idades de 756 deles. Podemos querer saber quantos passageiros de quais idades havia no Titanic, ou seja, quantas crianças, jovens adultos, pessoas de meia-idade, idosos e assim por diante. Chamamos as proporções relativas das diferentes idades entre os passageiros de distribuição de idade dos passageiros.\n",
    "\n",
    "Podemos obter uma noção da distribuição de idade entre os passageiros agrupando todos os passageiros em caixas com idades comparáveis e, em seguida, contando o número de passageiros em cada caixa. Este procedimento resulta em uma tabela abaixo."
   ]
  },
  {
   "cell_type": "markdown",
   "id": "17a99ed1-949d-4989-989f-72718677f38a",
   "metadata": {},
   "source": [
    "Os histogramas têm sido uma opção de visualização popular pelo menos desde o século 18, em parte porque são gerados facilmente à mão. Mais recentemente, à medida que um amplo poder de computação se tornou disponível em dispositivos do dia-a-dia, como laptops e telefones celulares, nós os vemos cada vez mais sendo substituídos por gráficos de densidade. Em um gráfico de densidade, tentamos visualizar a distribuição de probabilidade subjacente dos dados desenhando uma curva contínua apropriada. Essa curva precisa ser estimada a partir dos dados e o método mais comumente usado para esse procedimento de estimativa é chamado de estimativa de densidade de kernel (kernel density estimation, KDE). Na estimativa da densidade do kernel, desenhamos uma curva contínua (o kernel) com uma pequena largura (controlada por um parâmetro chamado largura de banda) no local de cada ponto de dados e, em seguida, somamos todas essas curvas para obter a estimativa da densidade final. O kernel mais amplamente usado é um kernel gaussiano (ou seja, uma curva de sino gaussiana), mas existem muitas outras opções."
   ]
  },
  {
   "cell_type": "markdown",
   "id": "b37d78ba-5dd7-498b-923e-dbf8af7de246",
   "metadata": {},
   "source": [
    "As estimativas de densidade do kernel têm uma armadilha da qual precisamos estar cientes: elas têm a tendência de produzir a aparência de dados onde eles não existem, em particular nas caudas. Como consequência, o uso descuidado de estimativas de densidade pode facilmente levar a números que fazem declarações sem sentido. Cuidado quanto estiver utilizadno esta técnica para estimar densidades de variáveis que tem limitações de valores, como idades (não existem idades menores que zero).\n",
    "\n",
    "Além de histogramas e gráficos de densidade, podemos utilizar histogramas agrupados, densidades sobrepostas ou histogramas espelhados para visualizar mais de uma densidade em um mesmo gráfico.\n",
    "\n",
    "Para aprender como criar gráficos de densidade utilizando a biblioteca seaborn, veja este [vídeo](https://www.youtube.com/watch?v=mf2IkkkNXvg)\n",
    "\n"
   ]
  },
  {
   "cell_type": "markdown",
   "id": "d5fa413e-b73f-43b0-b8ff-79907c8ddbb1",
   "metadata": {},
   "source": [
    "Uma outra maneira de visualizar várias distribuições de uma só vez é utilizando boxplots ou visualizações derivadas desta. O Boxplot ou box plot é um diagrama de caixa construído utilizando as referências de valores mínimos e máximos, primeiro e terceiro quartil, mediana e outliers da base de dados. Abaixo você pode ver um exemplo de boxplot"
   ]
  },
  {
   "cell_type": "markdown",
   "id": "58c3671d-4449-43b3-a806-fc9589f76598",
   "metadata": {},
   "source": [
    "Os boxplots são simples, mas informativos, e funcionam bem quando plotados lado a lado para visualizar muitas distribuições de uma vez. Para os dados de temperatura de Lincoln (uma cidade dos estados unidos), o uso de boxplots leva à Figura abaixo. Nessa figura, podemos ver agora que a temperatura é altamente distorcida em dezembro (a maioria dos dias são moderadamente frios e alguns são extremamente frios) e não muito distorcida em alguns outros meses, por exemplo, em julho."
   ]
  },
  {
   "cell_type": "markdown",
   "id": "731df8bb-be33-4eec-87f0-e2c743a0313c",
   "metadata": {},
   "source": [
    "Os boxplots foram inventados pelo estatístico John Tukey no início dos anos 1970 e rapidamente ganharam popularidade porque eram altamente informativos e fáceis de desenhar à mão. A maioria das visualizações de dados foi desenhada à mão naquela época. Atualmente existem outras formas baseadas nos boxplots para visualização de várias distribuições, como gráficos de violino e gráficos de tira. O vídeo abaixo ensinam como criar gráficos de violino e gráficos de tira utilizando a biblioteca seaborn."
   ]
  },
  {
   "cell_type": "code",
   "execution_count": null,
   "id": "93596836-8596-4145-ae1c-9946274118f5",
   "metadata": {},
   "outputs": [],
   "source": []
  }
 ],
 "metadata": {
  "kernelspec": {
   "display_name": "Python 3 (ipykernel)",
   "language": "python",
   "name": "python3"
  },
  "language_info": {
   "codemirror_mode": {
    "name": "ipython",
    "version": 3
   },
   "file_extension": ".py",
   "mimetype": "text/x-python",
   "name": "python",
   "nbconvert_exporter": "python",
   "pygments_lexer": "ipython3",
   "version": "3.8.10"
  }
 },
 "nbformat": 4,
 "nbformat_minor": 5
}
